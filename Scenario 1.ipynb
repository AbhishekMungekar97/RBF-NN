{
 "cells": [
  {
   "cell_type": "markdown",
   "metadata": {},
   "source": [
    "## - Scenario 1 : Comparison of the mean squared error (performance) of the RBF model, for varying ranges of spread functions\n",
    "### - For this portion, i have analyzed five different spread parameters i.e. 0.1,0.2,0.5,0.7 and 1.0 and opted for the best one. "
   ]
  },
  {
   "cell_type": "code",
   "execution_count": 1,
   "metadata": {},
   "outputs": [],
   "source": [
    "#Importing all the neccasary libraries\n",
    "import numpy as np\n",
    "from numpy import *\n",
    "from numpy.linalg import norm, pinv\n",
    "from sklearn.model_selection import train_test_split \n",
    "from matplotlib import pyplot as plt\n",
    "# Creating the training dataset\n",
    "train_set = []\n",
    "for j in range(21):\n",
    "    for m in range(21):\n",
    "        x = (-2 + (0.2*j), -2 + (0.2*m))\n",
    "        train_set.append(x)\n",
    "        \n",
    "train_set = np.array(train_set)\n",
    "\n",
    "# Assigning labels as per the function described in the read me file\n",
    "label=[]\n",
    "for x,y in train_set:\n",
    "    if ((x**2)+(y**2)<=1) :\n",
    "        label.append(1)\n",
    "    else :\n",
    "        label.append(-1)\n",
    "        \n",
    "\n",
    "# Splitting data into 80%-20% train-test ratio \n",
    "training_data, test_data, training_labels , test_labels = train_test_split(train_set,label, test_size=0.2, random_state=66)\n",
    "\n",
    "# A list to store the Mean square values\n",
    "MSE_train_error_1=[]\n",
    "MSE_test_error_1=[]"
   ]
  },
  {
   "cell_type": "markdown",
   "metadata": {},
   "source": [
    "## Training the model for a spread parameter of (0.1) and tabulating the mean square error."
   ]
  },
  {
   "cell_type": "code",
   "execution_count": 34,
   "metadata": {},
   "outputs": [
    {
     "name": "stdout",
     "output_type": "stream",
     "text": [
      "The Mean Square Error of the training data is:  12.245398949281396 %\n",
      "The Mean Square Error of the test data is:  12.2578987328524 %\n"
     ]
    }
   ],
   "source": [
    "# Training the Radial basis function\n",
    "class Rad_bas_func:\n",
    "    \n",
    "    def __init__(self, input_dim, num_of_Centers, output_dim):\n",
    "        self.input_dim = input_dim\n",
    "        self.output_dim = output_dim\n",
    "        self.num_of_Centers = num_of_Centers\n",
    "        self.centers = None\n",
    "        self.W = None\n",
    "         \n",
    "    def Gauss_kernal_func(self, c, d):\n",
    "        # utilizing appropriate spread parameter for the model\n",
    "        sigma = 0.1\n",
    "        return exp((- norm(c-d)**2)/2*sigma**2)\n",
    "     \n",
    "    def Activation_func(self, X):\n",
    "        # calculate activations of RBFs\n",
    "        G = zeros((X.shape[0], self.num_of_Centers), float)\n",
    "        for ci, c in enumerate(self.centers):\n",
    "            for xi, x in enumerate(X):\n",
    "                G[xi,ci] = self.Gauss_kernal_func(c, x)\n",
    "        return G\n",
    "     \n",
    "    def train(self, X, Y): \n",
    "        # choosing all the training points as the centers of the kernal function\n",
    "        self.centers = X\n",
    "        # calculating the activation function based on the dataset provided\n",
    "        G = self.Activation_func(X)\n",
    "        # Since the G matrix may be ill-conditioned, therefore it is crucial to take its psuedoinverse\n",
    "        self.W = dot(pinv(G), Y)\n",
    "         \n",
    "    def prediction(self, X):\n",
    "        # predicting all the labels, in order to tabulate error\n",
    "        G = self.Activation_func(X)\n",
    "        Y = dot(G, self.W)\n",
    "        return Y\n",
    "    def mean_square_error_train(self,y_true,y_pred):\n",
    "        dif_list=[]\n",
    "        for i in range(352):\n",
    "            #finding the difference between observed and predicted value\n",
    "            difference = y_true[i] - y_pred[i] \n",
    "            #taking square of the differene\n",
    "            squared_difference = difference**2   \n",
    "            dif_list.append(squared_difference)\n",
    "        #dividing summation by total values to obtain average    \n",
    "        MSE = sum(dif_list)/352\n",
    "        MSE_train_error_1.append(MSE)\n",
    "        print (\"The Mean Square Error of the training data is: \" , MSE*100,\"%\")\n",
    "        \n",
    "        \n",
    "    def mean_square_error_test(self,y_true,y_pred):\n",
    "        dif_list=[]\n",
    "        for i in range(89):\n",
    "            #finding the difference between observed and predicted value\n",
    "            difference = y_true[i] - y_pred[i] \n",
    "            #taking square of the differene\n",
    "            squared_difference = difference**2   \n",
    "            dif_list.append(squared_difference)\n",
    "        #dividing summation by total values to obtain average    \n",
    "        MSE = sum(dif_list)/89\n",
    "        MSE_test_error_1.append(MSE)\n",
    "        print (\"The Mean Square Error of the test data is: \" , MSE*100,\"%\")\n",
    " \n",
    " \n",
    "      \n",
    "if __name__ == '__main__':\n",
    "    \n",
    "    x= training_data\n",
    "    y = training_labels\n",
    "    m = test_data\n",
    "    k = test_labels\n",
    "    #Inputing necassary parameters for the radial basis fucntion model\n",
    "    rbf = Rad_bas_func(2, 441, 1)\n",
    "    rbf.train(x, y)\n",
    "    n = rbf.prediction(x)\n",
    "    rbf.mean_square_error_train(n,y)\n",
    "    z= rbf.prediction(m)\n",
    "    rbf.mean_square_error_test(k,z)\n",
    "    \n"
   ]
  },
  {
   "cell_type": "markdown",
   "metadata": {},
   "source": [
    "## Training the model for a spread parameter of (0.2) and tabulating the mean square error."
   ]
  },
  {
   "cell_type": "code",
   "execution_count": 35,
   "metadata": {},
   "outputs": [
    {
     "name": "stdout",
     "output_type": "stream",
     "text": [
      "The Mean Square Error of the training data is:  10.792525358953174 %\n",
      "The Mean Square Error of the test data is:  12.228477105571564 %\n"
     ]
    }
   ],
   "source": [
    "# Training the Radial basis function\n",
    "class Rad_bas_func:\n",
    "    \n",
    "    def __init__(self, input_dim, num_of_Centers, output_dim):\n",
    "        self.input_dim = input_dim\n",
    "        self.output_dim = output_dim\n",
    "        self.num_of_Centers = num_of_Centers\n",
    "        self.centers = None\n",
    "        self.W = None\n",
    "         \n",
    "    def Gauss_kernal_func(self, c, d):\n",
    "        # utilizing appropriate spread parameter for the model\n",
    "        sigma = 0.2\n",
    "        return exp((- norm(c-d)**2)/2*sigma**2)\n",
    "     \n",
    "    def Activation_func(self, X):\n",
    "        # calculate activations of RBFs\n",
    "        G = zeros((X.shape[0], self.num_of_Centers), float)\n",
    "        for ci, c in enumerate(self.centers):\n",
    "            for xi, x in enumerate(X):\n",
    "                G[xi,ci] = self.Gauss_kernal_func(c, x)\n",
    "        return G\n",
    "     \n",
    "    def train(self, X, Y): \n",
    "        # choosing all the training points as the centers of the kernal function\n",
    "        self.centers = X\n",
    "        # calculating the activation function based on the dataset provided\n",
    "        G = self.Activation_func(X)\n",
    "        # Since the G matrix may be ill-conditioned, therefore it is crucial to take its psuedoinverse\n",
    "        self.W = dot(pinv(G), Y)\n",
    "         \n",
    "    def prediction(self, X):\n",
    "        # predicting all the labels, in order to tabulate error\n",
    "        G = self.Activation_func(X)\n",
    "        Y = dot(G, self.W)\n",
    "        return Y\n",
    "    def mean_square_error_train(self,y_true,y_pred):\n",
    "        dif_list=[]\n",
    "        for i in range(352):\n",
    "            #finding the difference between observed and predicted value\n",
    "            difference = y_true[i] - y_pred[i] \n",
    "            #taking square of the differene\n",
    "            squared_difference = difference**2   \n",
    "            dif_list.append(squared_difference)\n",
    "        #dividing summation by total values to obtain average    \n",
    "        MSE = sum(dif_list)/352\n",
    "        MSE_train_error_1.append(MSE)\n",
    "        print (\"The Mean Square Error of the training data is: \" , MSE*100,\"%\")\n",
    "        \n",
    "    def mean_square_error_test(self,y_true,y_pred):\n",
    "        dif_list=[]\n",
    "        for i in range(89):\n",
    "            #finding the difference between observed and predicted value\n",
    "            difference = y_true[i] - y_pred[i] \n",
    "            #taking square of the differene\n",
    "            squared_difference = difference**2   \n",
    "            dif_list.append(squared_difference)\n",
    "        #dividing summation by total values to obtain average    \n",
    "        MSE = sum(dif_list)/89\n",
    "        MSE_test_error_1.append(MSE)\n",
    "        print (\"The Mean Square Error of the test data is: \" , MSE*100,\"%\")\n",
    " \n",
    " \n",
    "      \n",
    "if __name__ == '__main__':\n",
    "    \n",
    "    x= training_data\n",
    "    y = training_labels\n",
    "    m = test_data\n",
    "    k = test_labels\n",
    "    #Inputing necassary parameters for the radial basis fucntion model\n",
    "    rbf = Rad_bas_func(2, 441, 1)\n",
    "    rbf.train(x, y)\n",
    "    n = rbf.prediction(x)\n",
    "    rbf.mean_square_error_train(n,y)\n",
    "    z= rbf.prediction(m)\n",
    "    rbf.mean_square_error_test(k,z)\n"
   ]
  },
  {
   "cell_type": "markdown",
   "metadata": {},
   "source": [
    "## Training the model for a spread parameter of (0.4) and tabulating the mean square error."
   ]
  },
  {
   "cell_type": "code",
   "execution_count": 36,
   "metadata": {},
   "outputs": [
    {
     "name": "stdout",
     "output_type": "stream",
     "text": [
      "The Mean Square Error of the training data is:  8.838510105852038 %\n",
      "The Mean Square Error of the test data is:  10.885245181368978 %\n"
     ]
    }
   ],
   "source": [
    "# Training the Radial basis function\n",
    "class Rad_bas_func:\n",
    "    \n",
    "    def __init__(self, input_dim, num_of_Centers, output_dim):\n",
    "        self.input_dim = input_dim\n",
    "        self.output_dim = output_dim\n",
    "        self.num_of_Centers = num_of_Centers\n",
    "        self.centers = None\n",
    "        self.W = None\n",
    "         \n",
    "    def Gauss_kernal_func(self, c, d):\n",
    "        # utilizing appropriate spread parameter for the model\n",
    "        sigma = 0.4\n",
    "        return exp((- norm(c-d)**2)/2*sigma**2)\n",
    "     \n",
    "    def Activation_func(self, X):\n",
    "        # calculate activations of RBFs\n",
    "        G = zeros((X.shape[0], self.num_of_Centers), float)\n",
    "        for ci, c in enumerate(self.centers):\n",
    "            for xi, x in enumerate(X):\n",
    "                G[xi,ci] = self.Gauss_kernal_func(c, x)\n",
    "        return G\n",
    "     \n",
    "    def train(self, X, Y): \n",
    "        # choosing all the training points as the centers of the kernal function\n",
    "        self.centers = X\n",
    "        # calculating the activation function based on the dataset provided\n",
    "        G = self.Activation_func(X)\n",
    "        # Since the G matrix may be ill-conditioned, therefore it is crucial to take its psuedoinverse\n",
    "        self.W = dot(pinv(G), Y)\n",
    "         \n",
    "    def prediction(self, X):\n",
    "        # predicting all the labels, in order to tabulate error\n",
    "        G = self.Activation_func(X)\n",
    "        Y = dot(G, self.W)\n",
    "        return Y\n",
    "    def mean_square_error_train(self,y_true,y_pred):\n",
    "        dif_list=[]\n",
    "        for i in range(352):\n",
    "            #finding the difference between observed and predicted value\n",
    "            difference = y_true[i] - y_pred[i] \n",
    "            #taking square of the differene\n",
    "            squared_difference = difference**2   \n",
    "            dif_list.append(squared_difference)\n",
    "        #dividing summation by total values to obtain average    \n",
    "        MSE = sum(dif_list)/352 \n",
    "        MSE_train_error_1.append(MSE)\n",
    "        print (\"The Mean Square Error of the training data is: \" , MSE*100,\"%\")\n",
    "        \n",
    "    def mean_square_error_test(self,y_true,y_pred):\n",
    "        dif_list=[]\n",
    "        for i in range(89):\n",
    "            #finding the difference between observed and predicted value\n",
    "            difference = y_true[i] - y_pred[i] \n",
    "            #taking square of the differene\n",
    "            squared_difference = difference**2   \n",
    "            dif_list.append(squared_difference)\n",
    "        #dividing summation by total values to obtain average    \n",
    "        MSE = sum(dif_list)/89\n",
    "        MSE_test_error_1.append(MSE)\n",
    "        print (\"The Mean Square Error of the test data is: \" , MSE*100,\"%\")\n",
    " \n",
    " \n",
    "      \n",
    "if __name__ == '__main__':\n",
    "    \n",
    "    x= training_data\n",
    "    y = training_labels\n",
    "    m = test_data\n",
    "    k = test_labels\n",
    "    #Inputing necassary parameters for the radial basis fucntion model\n",
    "    rbf = Rad_bas_func(2, 441, 1)\n",
    "    rbf.train(x, y)\n",
    "    n = rbf.prediction(x)\n",
    "    rbf.mean_square_error_train(n,y)\n",
    "    z= rbf.prediction(m)\n",
    "    rbf.mean_square_error_test(k,z)"
   ]
  },
  {
   "cell_type": "markdown",
   "metadata": {},
   "source": [
    "## Training the model for a spread parameter of (0.7) and tabulating the mean square error."
   ]
  },
  {
   "cell_type": "code",
   "execution_count": 37,
   "metadata": {},
   "outputs": [
    {
     "name": "stdout",
     "output_type": "stream",
     "text": [
      "The Mean Square Error of the training data is:  6.0784362693332445 %\n",
      "The Mean Square Error of the test data is:  9.59622849686741 %\n"
     ]
    }
   ],
   "source": [
    "# Training the Radial basis function\n",
    "class Rad_bas_func:\n",
    "    \n",
    "    def __init__(self, input_dim, num_of_Centers, output_dim):\n",
    "        self.input_dim = input_dim\n",
    "        self.output_dim = output_dim\n",
    "        self.num_of_Centers = num_of_Centers\n",
    "        self.centers = None\n",
    "        self.W = None\n",
    "         \n",
    "    def Gauss_kernal_func(self, c, d):\n",
    "        # utilizing appropriate spread parameter for the model\n",
    "        sigma = 0.7\n",
    "        return exp((- norm(c-d)**2)/2*sigma**2)\n",
    "     \n",
    "    def Activation_func(self, X):\n",
    "        # calculate activations of RBFs\n",
    "        G = zeros((X.shape[0], self.num_of_Centers), float)\n",
    "        for ci, c in enumerate(self.centers):\n",
    "            for xi, x in enumerate(X):\n",
    "                G[xi,ci] = self.Gauss_kernal_func(c, x)\n",
    "        return G\n",
    "     \n",
    "    def train(self, X, Y): \n",
    "        # choosing all the training points as the centers of the kernal function\n",
    "        self.centers = X\n",
    "        # calculating the activation function based on the dataset provided\n",
    "        G = self.Activation_func(X)\n",
    "        # Since the G matrix may be ill-conditioned, therefore it is crucial to take its psuedoinverse\n",
    "        self.W = dot(pinv(G), Y)\n",
    "         \n",
    "    def prediction(self, X):\n",
    "        # predicting all the labels, in order to tabulate error\n",
    "        G = self.Activation_func(X)\n",
    "        Y = dot(G, self.W)\n",
    "        return Y\n",
    "    def mean_square_error_train(self,y_true,y_pred):\n",
    "        dif_list=[]\n",
    "        for i in range(352):\n",
    "            #finding the difference between observed and predicted value\n",
    "            difference = y_true[i] - y_pred[i] \n",
    "            #taking square of the differene\n",
    "            squared_difference = difference**2   \n",
    "            dif_list.append(squared_difference)\n",
    "        #dividing summation by total values to obtain average    \n",
    "        MSE = sum(dif_list)/352\n",
    "        MSE_train_error_1.append(MSE)\n",
    "        print (\"The Mean Square Error of the training data is: \" , MSE*100,\"%\")\n",
    "        \n",
    "    def mean_square_error_test(self,y_true,y_pred):\n",
    "        dif_list=[]\n",
    "        for i in range(89):\n",
    "            #finding the difference between observed and predicted value\n",
    "            difference = y_true[i] - y_pred[i] \n",
    "            #taking square of the differene\n",
    "            squared_difference = difference**2   \n",
    "            dif_list.append(squared_difference)\n",
    "        #dividing summation by total values to obtain average    \n",
    "        MSE = sum(dif_list)/89\n",
    "        MSE_test_error_1.append(MSE)\n",
    "        print (\"The Mean Square Error of the test data is: \" , MSE*100,\"%\")\n",
    " \n",
    " \n",
    "      \n",
    "if __name__ == '__main__':\n",
    "    \n",
    "    x= training_data\n",
    "    y = training_labels\n",
    "    m = test_data\n",
    "    k = test_labels\n",
    "    #Inputing necassary parameters for the radial basis fucntion model\n",
    "    rbf = Rad_bas_func(2, 441, 1)\n",
    "    rbf.train(x, y)\n",
    "    n = rbf.prediction(x)\n",
    "    rbf.mean_square_error_train(n,y)\n",
    "    z= rbf.prediction(m)\n",
    "    rbf.mean_square_error_test(k,z)"
   ]
  },
  {
   "cell_type": "markdown",
   "metadata": {},
   "source": [
    "## Training the model for a spread parameter of (0.8) and tabulating the mean square error."
   ]
  },
  {
   "cell_type": "code",
   "execution_count": 38,
   "metadata": {},
   "outputs": [
    {
     "name": "stdout",
     "output_type": "stream",
     "text": [
      "The Mean Square Error of the training data is:  5.485941928451543 %\n",
      "The Mean Square Error of the test data is:  29.564366425816598 %\n"
     ]
    }
   ],
   "source": [
    "# Training the Radial basis function\n",
    "class Rad_bas_func:\n",
    "    \n",
    "    def __init__(self, input_dim, num_of_Centers, output_dim):\n",
    "        self.input_dim = input_dim\n",
    "        self.output_dim = output_dim\n",
    "        self.num_of_Centers = num_of_Centers\n",
    "        self.centers = None\n",
    "        self.W = None\n",
    "         \n",
    "    def Gauss_kernal_func(self, c, d):\n",
    "        # utilizing appropriate spread parameter for the model\n",
    "        sigma = 0.8\n",
    "        return exp((- norm(c-d)**2)/2*sigma**2)\n",
    "     \n",
    "    def Activation_func(self, X):\n",
    "        # calculate activations of RBFs\n",
    "        G = zeros((X.shape[0], self.num_of_Centers), float)\n",
    "        for ci, c in enumerate(self.centers):\n",
    "            for xi, x in enumerate(X):\n",
    "                G[xi,ci] = self.Gauss_kernal_func(c, x)\n",
    "        return G\n",
    "     \n",
    "    def train(self, X, Y): \n",
    "        # choosing all the training points as the centers of the kernal function\n",
    "        self.centers = X\n",
    "        # calculating the activation function based on the dataset provided\n",
    "        G = self.Activation_func(X)\n",
    "        # Since the G matrix may be ill-conditioned, therefore it is crucial to take its psuedoinverse\n",
    "        self.W = dot(pinv(G), Y)\n",
    "         \n",
    "    def prediction(self, X):\n",
    "        # predicting all the labels, in order to tabulate error\n",
    "        G = self.Activation_func(X)\n",
    "        Y = dot(G, self.W)\n",
    "        return Y\n",
    "    def mean_square_error_train(self,y_true,y_pred):\n",
    "        dif_list=[]\n",
    "        for i in range(352):\n",
    "            #finding the difference between observed and predicted value\n",
    "            difference = y_true[i] - y_pred[i] \n",
    "            #taking square of the differene\n",
    "            squared_difference = difference**2   \n",
    "            dif_list.append(squared_difference)\n",
    "        #dividing summation by total values to obtain average    \n",
    "        MSE = sum(dif_list)/352\n",
    "        MSE_train_error_1.append(MSE)\n",
    "        print (\"The Mean Square Error of the training data is: \" , MSE*100,\"%\")\n",
    "        \n",
    "    def mean_square_error_test(self,y_true,y_pred):\n",
    "        dif_list=[]\n",
    "        for i in range(89):\n",
    "            #finding the difference between observed and predicted value\n",
    "            difference = y_true[i] - y_pred[i] \n",
    "            #taking square of the differene\n",
    "            squared_difference = difference**2   \n",
    "            dif_list.append(squared_difference)\n",
    "        #dividing summation by total values to obtain average    \n",
    "        MSE = sum(dif_list)/89\n",
    "        MSE_test_error_1.append(MSE)\n",
    "        print (\"The Mean Square Error of the test data is: \" , MSE*100,\"%\")\n",
    " \n",
    " \n",
    "      \n",
    "if __name__ == '__main__':\n",
    "    \n",
    "    x= training_data\n",
    "    y = training_labels\n",
    "    m = test_data\n",
    "    k = test_labels\n",
    "    #Inputing necassary parameters for the radial basis fucntion model\n",
    "    rbf = Rad_bas_func(2, 441, 1)\n",
    "    rbf.train(x, y)\n",
    "    n = rbf.prediction(x)\n",
    "    rbf.mean_square_error_train(n,y)\n",
    "    z= rbf.prediction(m)\n",
    "    rbf.mean_square_error_test(k,z)\n"
   ]
  },
  {
   "cell_type": "code",
   "execution_count": 44,
   "metadata": {},
   "outputs": [
    {
     "data": {
      "text/plain": [
       "Text(0.5, 1.0, 'Mean sqaure accuracy of the training data')"
      ]
     },
     "execution_count": 44,
     "metadata": {},
     "output_type": "execute_result"
    },
    {
     "data": {
      "image/png": "[encoded data removed]",
      "text/plain": [
       "<Figure size 432x288 with 1 Axes>"
      ]
     },
     "metadata": {
      "needs_background": "light"
     },
     "output_type": "display_data"
    }
   ],
   "source": [
    "#Plotting the MSE error observed on the training dataset\n",
    "Sigma = [0.1,0.2,0.4,0.7,0.8]\n",
    "plt.plot(Sigma,MSE_train_error_1)\n",
    "plt.xlabel(\" Sigma Values\")\n",
    "plt.ylabel(\" Tabulated mean square error\")\n",
    "plt.title(\"Mean sqaure accuracy of the training data\")"
   ]
  },
  {
   "cell_type": "code",
   "execution_count": 46,
   "metadata": {},
   "outputs": [
    {
     "data": {
      "text/plain": [
       "Text(0.5, 1.0, 'Mean sqaure accuracy of the testing data')"
      ]
     },
     "execution_count": 46,
     "metadata": {},
     "output_type": "execute_result"
    },
    {
     "data": {
      "image/png": "[encoded data removed]",
      "text/plain": [
       "<Figure size 432x288 with 1 Axes>"
      ]
     },
     "metadata": {
      "needs_background": "light"
     },
     "output_type": "display_data"
    }
   ],
   "source": [
    "#Plotting the MSE error observed on the training dataset\n",
    "Sigma = [0.1,0.2,0.4,0.7,0.8]\n",
    "plt.plot(Sigma,MSE_test_error_1)\n",
    "plt.xlabel(\" Sigma Values\")\n",
    "plt.ylabel(\" Tabulated mean square error\")\n",
    "plt.title(\"Mean sqaure accuracy of the testing data\")"
   ]
  },
  {
   "cell_type": "markdown",
   "metadata": {},
   "source": [
    "## Observations:-\n",
    "### - From the above five cases, it is clearly evident that as the spread parameter increases, the mean sqaured error of the training data decreses. This is clearly indicated in the graphs shown above\n",
    "### - Intrestingly it was observed that, as the spread parameter was increased from 0.1 to 0.7 the mean squared error value of the test datset dropped to about 9.59%. But for higher value, the test error increased significantly, indicating that the model was getting overfit.\n",
    "### - Since our task is to generalize the model as best as possible, therefore for the next scenario, we will be utilizing the spread parameter of 0.7 to make comparisons.\n"
   ]
  }
 ],
 "metadata": {
  "kernelspec": {
   "display_name": "Python 3",
   "language": "python",
   "name": "python3"
  },
  "language_info": {
   "codemirror_mode": {
    "name": "ipython",
    "version": 3
   },
   "file_extension": ".py",
   "mimetype": "text/x-python",
   "name": "python",
   "nbconvert_exporter": "python",
   "pygments_lexer": "ipython3",
   "version": "3.7.4"
  }
 },
 "nbformat": 4,
 "nbformat_minor": 2
}
